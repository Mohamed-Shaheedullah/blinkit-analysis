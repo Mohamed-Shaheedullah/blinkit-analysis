{
 "cells": [
  {
   "cell_type": "code",
   "execution_count": 124,
   "id": "80f458de",
   "metadata": {},
   "outputs": [],
   "source": [
    "import pandas as pd\n",
    "import matplotlib.pyplot as plt\n",
    "import seaborn as sns"
   ]
  },
  {
   "cell_type": "code",
   "execution_count": 125,
   "id": "7afad29b",
   "metadata": {},
   "outputs": [
    {
     "data": {
      "application/vnd.microsoft.datawrangler.viewer.v0+json": {
       "columns": [
        {
         "name": "index",
         "rawType": "int64",
         "type": "integer"
        },
        {
         "name": "Item Fat Content",
         "rawType": "object",
         "type": "string"
        },
        {
         "name": "Item Identifier",
         "rawType": "object",
         "type": "string"
        },
        {
         "name": "Item Type",
         "rawType": "object",
         "type": "string"
        },
        {
         "name": "Outlet Establishment Year",
         "rawType": "int64",
         "type": "integer"
        },
        {
         "name": "Outlet Identifier",
         "rawType": "object",
         "type": "string"
        },
        {
         "name": "Outlet Location Type",
         "rawType": "object",
         "type": "string"
        },
        {
         "name": "Outlet Size",
         "rawType": "object",
         "type": "string"
        },
        {
         "name": "Outlet Type",
         "rawType": "object",
         "type": "string"
        },
        {
         "name": "Item Visibility",
         "rawType": "float64",
         "type": "float"
        },
        {
         "name": "Item Weight",
         "rawType": "float64",
         "type": "float"
        },
        {
         "name": "Sales",
         "rawType": "float64",
         "type": "float"
        },
        {
         "name": "Rating",
         "rawType": "float64",
         "type": "float"
        }
       ],
       "conversionMethod": "pd.DataFrame",
       "ref": "fcf74ccb-d8ec-4d38-8401-e530cd3a0b0b",
       "rows": [
        [
         "0",
         "Regular",
         "FDX32",
         "Fruits and Vegetables",
         "2012",
         "OUT049",
         "Tier 1",
         "Medium",
         "Supermarket Type1",
         "0.1000135",
         "15.1",
         "145.4786",
         "5.0"
        ],
        [
         "1",
         "Low Fat",
         "NCB42",
         "Health and Hygiene",
         "2022",
         "OUT018",
         "Tier 3",
         "Medium",
         "Supermarket Type2",
         "0.008596051",
         "11.8",
         "115.3492",
         "5.0"
        ],
        [
         "2",
         "Regular",
         "FDR28",
         "Frozen Foods",
         "2010",
         "OUT046",
         "Tier 1",
         "Small",
         "Supermarket Type1",
         "0.025896485",
         "13.85",
         "165.021",
         "5.0"
        ],
        [
         "3",
         "Regular",
         "FDL50",
         "Canned",
         "2000",
         "OUT013",
         "Tier 3",
         "High",
         "Supermarket Type1",
         "0.042277867",
         "12.15",
         "126.5046",
         "5.0"
        ],
        [
         "4",
         "Low Fat",
         "DRI25",
         "Soft Drinks",
         "2015",
         "OUT045",
         "Tier 2",
         "Small",
         "Supermarket Type1",
         "0.033970195",
         "19.6",
         "55.1614",
         "5.0"
        ]
       ],
       "shape": {
        "columns": 12,
        "rows": 5
       }
      },
      "text/html": [
       "<div>\n",
       "<style scoped>\n",
       "    .dataframe tbody tr th:only-of-type {\n",
       "        vertical-align: middle;\n",
       "    }\n",
       "\n",
       "    .dataframe tbody tr th {\n",
       "        vertical-align: top;\n",
       "    }\n",
       "\n",
       "    .dataframe thead th {\n",
       "        text-align: right;\n",
       "    }\n",
       "</style>\n",
       "<table border=\"1\" class=\"dataframe\">\n",
       "  <thead>\n",
       "    <tr style=\"text-align: right;\">\n",
       "      <th></th>\n",
       "      <th>Item Fat Content</th>\n",
       "      <th>Item Identifier</th>\n",
       "      <th>Item Type</th>\n",
       "      <th>Outlet Establishment Year</th>\n",
       "      <th>Outlet Identifier</th>\n",
       "      <th>Outlet Location Type</th>\n",
       "      <th>Outlet Size</th>\n",
       "      <th>Outlet Type</th>\n",
       "      <th>Item Visibility</th>\n",
       "      <th>Item Weight</th>\n",
       "      <th>Sales</th>\n",
       "      <th>Rating</th>\n",
       "    </tr>\n",
       "  </thead>\n",
       "  <tbody>\n",
       "    <tr>\n",
       "      <th>0</th>\n",
       "      <td>Regular</td>\n",
       "      <td>FDX32</td>\n",
       "      <td>Fruits and Vegetables</td>\n",
       "      <td>2012</td>\n",
       "      <td>OUT049</td>\n",
       "      <td>Tier 1</td>\n",
       "      <td>Medium</td>\n",
       "      <td>Supermarket Type1</td>\n",
       "      <td>0.100014</td>\n",
       "      <td>15.10</td>\n",
       "      <td>145.4786</td>\n",
       "      <td>5.0</td>\n",
       "    </tr>\n",
       "    <tr>\n",
       "      <th>1</th>\n",
       "      <td>Low Fat</td>\n",
       "      <td>NCB42</td>\n",
       "      <td>Health and Hygiene</td>\n",
       "      <td>2022</td>\n",
       "      <td>OUT018</td>\n",
       "      <td>Tier 3</td>\n",
       "      <td>Medium</td>\n",
       "      <td>Supermarket Type2</td>\n",
       "      <td>0.008596</td>\n",
       "      <td>11.80</td>\n",
       "      <td>115.3492</td>\n",
       "      <td>5.0</td>\n",
       "    </tr>\n",
       "    <tr>\n",
       "      <th>2</th>\n",
       "      <td>Regular</td>\n",
       "      <td>FDR28</td>\n",
       "      <td>Frozen Foods</td>\n",
       "      <td>2010</td>\n",
       "      <td>OUT046</td>\n",
       "      <td>Tier 1</td>\n",
       "      <td>Small</td>\n",
       "      <td>Supermarket Type1</td>\n",
       "      <td>0.025896</td>\n",
       "      <td>13.85</td>\n",
       "      <td>165.0210</td>\n",
       "      <td>5.0</td>\n",
       "    </tr>\n",
       "    <tr>\n",
       "      <th>3</th>\n",
       "      <td>Regular</td>\n",
       "      <td>FDL50</td>\n",
       "      <td>Canned</td>\n",
       "      <td>2000</td>\n",
       "      <td>OUT013</td>\n",
       "      <td>Tier 3</td>\n",
       "      <td>High</td>\n",
       "      <td>Supermarket Type1</td>\n",
       "      <td>0.042278</td>\n",
       "      <td>12.15</td>\n",
       "      <td>126.5046</td>\n",
       "      <td>5.0</td>\n",
       "    </tr>\n",
       "    <tr>\n",
       "      <th>4</th>\n",
       "      <td>Low Fat</td>\n",
       "      <td>DRI25</td>\n",
       "      <td>Soft Drinks</td>\n",
       "      <td>2015</td>\n",
       "      <td>OUT045</td>\n",
       "      <td>Tier 2</td>\n",
       "      <td>Small</td>\n",
       "      <td>Supermarket Type1</td>\n",
       "      <td>0.033970</td>\n",
       "      <td>19.60</td>\n",
       "      <td>55.1614</td>\n",
       "      <td>5.0</td>\n",
       "    </tr>\n",
       "  </tbody>\n",
       "</table>\n",
       "</div>"
      ],
      "text/plain": [
       "  Item Fat Content Item Identifier              Item Type  \\\n",
       "0          Regular           FDX32  Fruits and Vegetables   \n",
       "1          Low Fat           NCB42     Health and Hygiene   \n",
       "2          Regular           FDR28           Frozen Foods   \n",
       "3          Regular           FDL50                 Canned   \n",
       "4          Low Fat           DRI25            Soft Drinks   \n",
       "\n",
       "   Outlet Establishment Year Outlet Identifier Outlet Location Type  \\\n",
       "0                       2012            OUT049               Tier 1   \n",
       "1                       2022            OUT018               Tier 3   \n",
       "2                       2010            OUT046               Tier 1   \n",
       "3                       2000            OUT013               Tier 3   \n",
       "4                       2015            OUT045               Tier 2   \n",
       "\n",
       "  Outlet Size        Outlet Type  Item Visibility  Item Weight     Sales  \\\n",
       "0      Medium  Supermarket Type1         0.100014        15.10  145.4786   \n",
       "1      Medium  Supermarket Type2         0.008596        11.80  115.3492   \n",
       "2       Small  Supermarket Type1         0.025896        13.85  165.0210   \n",
       "3        High  Supermarket Type1         0.042278        12.15  126.5046   \n",
       "4       Small  Supermarket Type1         0.033970        19.60   55.1614   \n",
       "\n",
       "   Rating  \n",
       "0     5.0  \n",
       "1     5.0  \n",
       "2     5.0  \n",
       "3     5.0  \n",
       "4     5.0  "
      ]
     },
     "execution_count": 125,
     "metadata": {},
     "output_type": "execute_result"
    }
   ],
   "source": [
    "df = pd.read_csv('../blinkit_data.csv')\n",
    "df.head()"
   ]
  },
  {
   "cell_type": "code",
   "execution_count": 126,
   "id": "4911892e",
   "metadata": {},
   "outputs": [
    {
     "name": "stdout",
     "output_type": "stream",
     "text": [
      "<class 'pandas.core.frame.DataFrame'>\n",
      "RangeIndex: 8523 entries, 0 to 8522\n",
      "Data columns (total 12 columns):\n",
      " #   Column                     Non-Null Count  Dtype  \n",
      "---  ------                     --------------  -----  \n",
      " 0   Item Fat Content           8523 non-null   object \n",
      " 1   Item Identifier            8523 non-null   object \n",
      " 2   Item Type                  8523 non-null   object \n",
      " 3   Outlet Establishment Year  8523 non-null   int64  \n",
      " 4   Outlet Identifier          8523 non-null   object \n",
      " 5   Outlet Location Type       8523 non-null   object \n",
      " 6   Outlet Size                8523 non-null   object \n",
      " 7   Outlet Type                8523 non-null   object \n",
      " 8   Item Visibility            8523 non-null   float64\n",
      " 9   Item Weight                7060 non-null   float64\n",
      " 10  Sales                      8523 non-null   float64\n",
      " 11  Rating                     8523 non-null   float64\n",
      "dtypes: float64(4), int64(1), object(7)\n",
      "memory usage: 799.2+ KB\n"
     ]
    }
   ],
   "source": [
    "df.info()"
   ]
  },
  {
   "cell_type": "code",
   "execution_count": 127,
   "id": "151cf5e0",
   "metadata": {},
   "outputs": [
    {
     "data": {
      "text/plain": [
       "Item Fat Content                0\n",
       "Item Identifier                 0\n",
       "Item Type                       0\n",
       "Outlet Establishment Year       0\n",
       "Outlet Identifier               0\n",
       "Outlet Location Type            0\n",
       "Outlet Size                     0\n",
       "Outlet Type                     0\n",
       "Item Visibility                 0\n",
       "Item Weight                  1463\n",
       "Sales                           0\n",
       "Rating                          0\n",
       "dtype: int64"
      ]
     },
     "execution_count": 127,
     "metadata": {},
     "output_type": "execute_result"
    }
   ],
   "source": [
    "df.isna().sum()"
   ]
  },
  {
   "cell_type": "code",
   "execution_count": 128,
   "id": "9c9b70f5",
   "metadata": {},
   "outputs": [
    {
     "data": {
      "application/vnd.microsoft.datawrangler.viewer.v0+json": {
       "columns": [
        {
         "name": "index",
         "rawType": "object",
         "type": "string"
        },
        {
         "name": "Outlet Establishment Year",
         "rawType": "float64",
         "type": "float"
        },
        {
         "name": "Item Visibility",
         "rawType": "float64",
         "type": "float"
        },
        {
         "name": "Item Weight",
         "rawType": "float64",
         "type": "float"
        },
        {
         "name": "Sales",
         "rawType": "float64",
         "type": "float"
        },
        {
         "name": "Rating",
         "rawType": "float64",
         "type": "float"
        }
       ],
       "conversionMethod": "pd.DataFrame",
       "ref": "ef1368dc-0d89-405e-b7d3-4d8322ee5d63",
       "rows": [
        [
         "count",
         "8523.0",
         "8523.0",
         "7060.0",
         "8523.0",
         "8523.0"
        ],
        [
         "mean",
         "2010.8318667135984",
         "0.06613202877895108",
         "12.857645184135977",
         "140.9927819781767",
         "3.965857092573038"
        ],
        [
         "std",
         "8.371760408092655",
         "0.05159782232113511",
         "4.643456499186415",
         "62.27506651219046",
         "0.6056512797409195"
        ],
        [
         "min",
         "1998.0",
         "0.0",
         "4.555",
         "31.29",
         "1.0"
        ],
        [
         "25%",
         "2000.0",
         "0.0269894775",
         "8.77375",
         "93.8265",
         "4.0"
        ],
        [
         "50%",
         "2012.0",
         "0.053930934",
         "12.6",
         "143.0128",
         "4.0"
        ],
        [
         "75%",
         "2017.0",
         "0.0945852925",
         "16.85",
         "185.6437",
         "4.2"
        ],
        [
         "max",
         "2022.0",
         "0.328390948",
         "21.35",
         "266.8884",
         "5.0"
        ]
       ],
       "shape": {
        "columns": 5,
        "rows": 8
       }
      },
      "text/html": [
       "<div>\n",
       "<style scoped>\n",
       "    .dataframe tbody tr th:only-of-type {\n",
       "        vertical-align: middle;\n",
       "    }\n",
       "\n",
       "    .dataframe tbody tr th {\n",
       "        vertical-align: top;\n",
       "    }\n",
       "\n",
       "    .dataframe thead th {\n",
       "        text-align: right;\n",
       "    }\n",
       "</style>\n",
       "<table border=\"1\" class=\"dataframe\">\n",
       "  <thead>\n",
       "    <tr style=\"text-align: right;\">\n",
       "      <th></th>\n",
       "      <th>Outlet Establishment Year</th>\n",
       "      <th>Item Visibility</th>\n",
       "      <th>Item Weight</th>\n",
       "      <th>Sales</th>\n",
       "      <th>Rating</th>\n",
       "    </tr>\n",
       "  </thead>\n",
       "  <tbody>\n",
       "    <tr>\n",
       "      <th>count</th>\n",
       "      <td>8523.000000</td>\n",
       "      <td>8523.000000</td>\n",
       "      <td>7060.000000</td>\n",
       "      <td>8523.000000</td>\n",
       "      <td>8523.000000</td>\n",
       "    </tr>\n",
       "    <tr>\n",
       "      <th>mean</th>\n",
       "      <td>2010.831867</td>\n",
       "      <td>0.066132</td>\n",
       "      <td>12.857645</td>\n",
       "      <td>140.992782</td>\n",
       "      <td>3.965857</td>\n",
       "    </tr>\n",
       "    <tr>\n",
       "      <th>std</th>\n",
       "      <td>8.371760</td>\n",
       "      <td>0.051598</td>\n",
       "      <td>4.643456</td>\n",
       "      <td>62.275067</td>\n",
       "      <td>0.605651</td>\n",
       "    </tr>\n",
       "    <tr>\n",
       "      <th>min</th>\n",
       "      <td>1998.000000</td>\n",
       "      <td>0.000000</td>\n",
       "      <td>4.555000</td>\n",
       "      <td>31.290000</td>\n",
       "      <td>1.000000</td>\n",
       "    </tr>\n",
       "    <tr>\n",
       "      <th>25%</th>\n",
       "      <td>2000.000000</td>\n",
       "      <td>0.026989</td>\n",
       "      <td>8.773750</td>\n",
       "      <td>93.826500</td>\n",
       "      <td>4.000000</td>\n",
       "    </tr>\n",
       "    <tr>\n",
       "      <th>50%</th>\n",
       "      <td>2012.000000</td>\n",
       "      <td>0.053931</td>\n",
       "      <td>12.600000</td>\n",
       "      <td>143.012800</td>\n",
       "      <td>4.000000</td>\n",
       "    </tr>\n",
       "    <tr>\n",
       "      <th>75%</th>\n",
       "      <td>2017.000000</td>\n",
       "      <td>0.094585</td>\n",
       "      <td>16.850000</td>\n",
       "      <td>185.643700</td>\n",
       "      <td>4.200000</td>\n",
       "    </tr>\n",
       "    <tr>\n",
       "      <th>max</th>\n",
       "      <td>2022.000000</td>\n",
       "      <td>0.328391</td>\n",
       "      <td>21.350000</td>\n",
       "      <td>266.888400</td>\n",
       "      <td>5.000000</td>\n",
       "    </tr>\n",
       "  </tbody>\n",
       "</table>\n",
       "</div>"
      ],
      "text/plain": [
       "       Outlet Establishment Year  Item Visibility  Item Weight        Sales  \\\n",
       "count                8523.000000      8523.000000  7060.000000  8523.000000   \n",
       "mean                 2010.831867         0.066132    12.857645   140.992782   \n",
       "std                     8.371760         0.051598     4.643456    62.275067   \n",
       "min                  1998.000000         0.000000     4.555000    31.290000   \n",
       "25%                  2000.000000         0.026989     8.773750    93.826500   \n",
       "50%                  2012.000000         0.053931    12.600000   143.012800   \n",
       "75%                  2017.000000         0.094585    16.850000   185.643700   \n",
       "max                  2022.000000         0.328391    21.350000   266.888400   \n",
       "\n",
       "            Rating  \n",
       "count  8523.000000  \n",
       "mean      3.965857  \n",
       "std       0.605651  \n",
       "min       1.000000  \n",
       "25%       4.000000  \n",
       "50%       4.000000  \n",
       "75%       4.200000  \n",
       "max       5.000000  "
      ]
     },
     "execution_count": 128,
     "metadata": {},
     "output_type": "execute_result"
    }
   ],
   "source": [
    "df.describe()"
   ]
  },
  {
   "cell_type": "code",
   "execution_count": 129,
   "id": "dd492697",
   "metadata": {},
   "outputs": [
    {
     "name": "stdout",
     "output_type": "stream",
     "text": [
      "['Regular' 'Low Fat' 'low fat' 'LF' 'reg']\n"
     ]
    }
   ],
   "source": [
    "print(df['Item Fat Content'].unique())"
   ]
  },
  {
   "cell_type": "markdown",
   "id": "2df93e6b",
   "metadata": {},
   "source": [
    "### Cleaning operation - replace LF with Low Fat"
   ]
  },
  {
   "cell_type": "code",
   "execution_count": 130,
   "id": "607bf890",
   "metadata": {},
   "outputs": [],
   "source": [
    "df.loc[df['Item Fat Content'] == 'LF', 'Item Fat Content'] = 'Low Fat'\n",
    "df.loc[df['Item Fat Content'] == 'low fat', 'Item Fat Content'] = 'Low Fat'\n",
    "df.loc[df['Item Fat Content'] == 'reg', 'Item Fat Content'] = 'Regular'"
   ]
  },
  {
   "cell_type": "code",
   "execution_count": 131,
   "id": "0a41410f",
   "metadata": {},
   "outputs": [
    {
     "name": "stdout",
     "output_type": "stream",
     "text": [
      "['Regular' 'Low Fat']\n"
     ]
    }
   ],
   "source": [
    "print(df['Item Fat Content'].unique())"
   ]
  },
  {
   "cell_type": "markdown",
   "id": "380e8d71",
   "metadata": {},
   "source": [
    "### Calculate total sales"
   ]
  },
  {
   "cell_type": "code",
   "execution_count": 132,
   "id": "ef8f8437",
   "metadata": {},
   "outputs": [
    {
     "name": "stdout",
     "output_type": "stream",
     "text": [
      "Total sales: 1201681.4808\n"
     ]
    }
   ],
   "source": [
    "total_sales = df['Sales'].sum()\n",
    "print(f'Total sales: {total_sales}')"
   ]
  },
  {
   "cell_type": "markdown",
   "id": "cd66d5ec",
   "metadata": {},
   "source": [
    "### Calculate average sales"
   ]
  },
  {
   "cell_type": "code",
   "execution_count": 133,
   "id": "9ebf3b83",
   "metadata": {},
   "outputs": [
    {
     "name": "stdout",
     "output_type": "stream",
     "text": [
      "Average sales: 140.9927819781767\n"
     ]
    }
   ],
   "source": [
    "average_sales = df['Sales'].mean()\n",
    "print(f'Average sales: {average_sales}')"
   ]
  },
  {
   "cell_type": "markdown",
   "id": "af37b416",
   "metadata": {},
   "source": [
    "### Calculate median sales"
   ]
  },
  {
   "cell_type": "code",
   "execution_count": 134,
   "id": "606d1cd7",
   "metadata": {},
   "outputs": [
    {
     "name": "stdout",
     "output_type": "stream",
     "text": [
      "Median sales: 143.0128\n"
     ]
    }
   ],
   "source": [
    "median_sales = df['Sales'].median()\n",
    "print(f'Median sales: {median_sales}')"
   ]
  },
  {
   "cell_type": "markdown",
   "id": "7c4b252d",
   "metadata": {},
   "source": [
    "### Find distinct number of items sold"
   ]
  },
  {
   "cell_type": "code",
   "execution_count": 135,
   "id": "7047cfeb",
   "metadata": {},
   "outputs": [
    {
     "name": "stdout",
     "output_type": "stream",
     "text": [
      "Number of distinct items: 1559\n"
     ]
    }
   ],
   "source": [
    "no_distinct_items = df['Item Identifier'].nunique()\n",
    "print(f'Number of distinct items: {no_distinct_items}')"
   ]
  },
  {
   "cell_type": "markdown",
   "id": "f7bea162",
   "metadata": {},
   "source": [
    "### Find average overall rating"
   ]
  },
  {
   "cell_type": "code",
   "execution_count": 136,
   "id": "f553a84a",
   "metadata": {},
   "outputs": [
    {
     "name": "stdout",
     "output_type": "stream",
     "text": [
      "Average rating: 3.965857092573038\n"
     ]
    }
   ],
   "source": [
    "average_rating = df['Rating'].mean()\n",
    "print(f'Average rating: {average_rating}')"
   ]
  },
  {
   "cell_type": "code",
   "execution_count": 137,
   "id": "c01e9371",
   "metadata": {},
   "outputs": [],
   "source": [
    "df_fat = df.groupby('Item Fat Content').agg({'Item Identifier': 'count', 'Rating': 'mean', 'Sales': 'sum'}).reset_index()"
   ]
  },
  {
   "cell_type": "code",
   "execution_count": 138,
   "id": "aae0f005",
   "metadata": {},
   "outputs": [],
   "source": [
    "df_fat.rename(columns={'Item Identifier': 'Number of Items','Rating': 'Average Rating'}, inplace=True)"
   ]
  },
  {
   "cell_type": "code",
   "execution_count": 139,
   "id": "54ac0fc9",
   "metadata": {},
   "outputs": [
    {
     "data": {
      "application/vnd.microsoft.datawrangler.viewer.v0+json": {
       "columns": [
        {
         "name": "index",
         "rawType": "int64",
         "type": "integer"
        },
        {
         "name": "Item Fat Content",
         "rawType": "object",
         "type": "string"
        },
        {
         "name": "Number of Items",
         "rawType": "int64",
         "type": "integer"
        },
        {
         "name": "Average Rating",
         "rawType": "float64",
         "type": "float"
        },
        {
         "name": "Sales",
         "rawType": "float64",
         "type": "float"
        }
       ],
       "conversionMethod": "pd.DataFrame",
       "ref": "787aade5-f4e7-43b6-8984-6ef4bc387f33",
       "rows": [
        [
         "0",
         "Low Fat",
         "5517",
         "3.9662860250135945",
         "776319.6784"
        ],
        [
         "1",
         "Regular",
         "3006",
         "3.965069860279441",
         "425361.8024"
        ]
       ],
       "shape": {
        "columns": 4,
        "rows": 2
       }
      },
      "text/html": [
       "<div>\n",
       "<style scoped>\n",
       "    .dataframe tbody tr th:only-of-type {\n",
       "        vertical-align: middle;\n",
       "    }\n",
       "\n",
       "    .dataframe tbody tr th {\n",
       "        vertical-align: top;\n",
       "    }\n",
       "\n",
       "    .dataframe thead th {\n",
       "        text-align: right;\n",
       "    }\n",
       "</style>\n",
       "<table border=\"1\" class=\"dataframe\">\n",
       "  <thead>\n",
       "    <tr style=\"text-align: right;\">\n",
       "      <th></th>\n",
       "      <th>Item Fat Content</th>\n",
       "      <th>Number of Items</th>\n",
       "      <th>Average Rating</th>\n",
       "      <th>Sales</th>\n",
       "    </tr>\n",
       "  </thead>\n",
       "  <tbody>\n",
       "    <tr>\n",
       "      <th>0</th>\n",
       "      <td>Low Fat</td>\n",
       "      <td>5517</td>\n",
       "      <td>3.966286</td>\n",
       "      <td>776319.6784</td>\n",
       "    </tr>\n",
       "    <tr>\n",
       "      <th>1</th>\n",
       "      <td>Regular</td>\n",
       "      <td>3006</td>\n",
       "      <td>3.965070</td>\n",
       "      <td>425361.8024</td>\n",
       "    </tr>\n",
       "  </tbody>\n",
       "</table>\n",
       "</div>"
      ],
      "text/plain": [
       "  Item Fat Content  Number of Items  Average Rating        Sales\n",
       "0          Low Fat             5517        3.966286  776319.6784\n",
       "1          Regular             3006        3.965070  425361.8024"
      ]
     },
     "execution_count": 139,
     "metadata": {},
     "output_type": "execute_result"
    }
   ],
   "source": [
    "df_fat"
   ]
  },
  {
   "cell_type": "code",
   "execution_count": 140,
   "id": "4cd5b944",
   "metadata": {},
   "outputs": [
    {
     "data": {
      "image/png": "[encoded data removed]",
      "text/plain": [
       "<Figure size 640x480 with 1 Axes>"
      ]
     },
     "metadata": {},
     "output_type": "display_data"
    }
   ],
   "source": [
    "plt.pie(df_fat['Sales'], labels=df_fat['Item Fat Content'], autopct='%1.1f%%', startangle=140)\n",
    "plt.axis('equal')  # Equal aspect ratio ensures that pie is drawn as a circle.\n",
    "plt.title('Sales Distribution by Item Fat Content')\n",
    "# Draw a white circle at the center of the pie chart\n",
    "circle = plt.Circle( (0,0), 0.7, color='white')\n",
    "fig = plt.gcf()\n",
    "fig.gca().add_artist(circle)\n",
    "plt.show()"
   ]
  },
  {
   "cell_type": "code",
   "execution_count": 141,
   "id": "05fe4560",
   "metadata": {},
   "outputs": [
    {
     "data": {
      "text/plain": [
       "Text(0.5, 1.0, 'Average Rating by Item Fat Content')"
      ]
     },
     "execution_count": 141,
     "metadata": {},
     "output_type": "execute_result"
    },
    {
     "data": {
      "image/png": "[encoded data removed]",
      "text/plain": [
       "<Figure size 640x480 with 1 Axes>"
      ]
     },
     "metadata": {},
     "output_type": "display_data"
    }
   ],
   "source": [
    "sns.barplot(x='Item Fat Content', y='Average Rating', data=df_fat)\n",
    "plt.title('Average Rating by Item Fat Content')"
   ]
  },
  {
   "cell_type": "markdown",
   "id": "7b0aa53a",
   "metadata": {},
   "source": [
    "### Sales by Item type"
   ]
  },
  {
   "cell_type": "code",
   "execution_count": 142,
   "id": "0ffa91f7",
   "metadata": {},
   "outputs": [
    {
     "data": {
      "application/vnd.microsoft.datawrangler.viewer.v0+json": {
       "columns": [
        {
         "name": "index",
         "rawType": "int64",
         "type": "integer"
        },
        {
         "name": "Item Type",
         "rawType": "object",
         "type": "string"
        },
        {
         "name": "Total Sales",
         "rawType": "float64",
         "type": "float"
        }
       ],
       "conversionMethod": "pd.DataFrame",
       "ref": "c674daf9-6745-4697-8afe-d82bfcd70611",
       "rows": [
        [
         "0",
         "Seafood",
         "9077.87"
        ],
        [
         "1",
         "Breakfast",
         "15596.6966"
        ],
        [
         "2",
         "Starchy Foods",
         "21880.0274"
        ],
        [
         "3",
         "Others",
         "22451.8916"
        ],
        [
         "4",
         "Hard Drinks",
         "29334.6766"
        ],
        [
         "5",
         "Breads",
         "35379.1198"
        ],
        [
         "6",
         "Soft Drinks",
         "58514.165"
        ],
        [
         "7",
         "Meat",
         "59449.8638"
        ],
        [
         "8",
         "Health and Hygiene",
         "68025.8388"
        ],
        [
         "9",
         "Baking Goods",
         "81894.7364"
        ],
        [
         "10",
         "Canned",
         "90706.727"
        ],
        [
         "11",
         "Dairy",
         "101276.4596"
        ],
        [
         "12",
         "Frozen Foods",
         "118558.8814"
        ],
        [
         "13",
         "Household",
         "135976.5254"
        ],
        [
         "14",
         "Snack Foods",
         "175433.9204"
        ],
        [
         "15",
         "Fruits and Vegetables",
         "178124.081"
        ]
       ],
       "shape": {
        "columns": 2,
        "rows": 16
       }
      },
      "text/html": [
       "<div>\n",
       "<style scoped>\n",
       "    .dataframe tbody tr th:only-of-type {\n",
       "        vertical-align: middle;\n",
       "    }\n",
       "\n",
       "    .dataframe tbody tr th {\n",
       "        vertical-align: top;\n",
       "    }\n",
       "\n",
       "    .dataframe thead th {\n",
       "        text-align: right;\n",
       "    }\n",
       "</style>\n",
       "<table border=\"1\" class=\"dataframe\">\n",
       "  <thead>\n",
       "    <tr style=\"text-align: right;\">\n",
       "      <th></th>\n",
       "      <th>Item Type</th>\n",
       "      <th>Total Sales</th>\n",
       "    </tr>\n",
       "  </thead>\n",
       "  <tbody>\n",
       "    <tr>\n",
       "      <th>0</th>\n",
       "      <td>Seafood</td>\n",
       "      <td>9077.8700</td>\n",
       "    </tr>\n",
       "    <tr>\n",
       "      <th>1</th>\n",
       "      <td>Breakfast</td>\n",
       "      <td>15596.6966</td>\n",
       "    </tr>\n",
       "    <tr>\n",
       "      <th>2</th>\n",
       "      <td>Starchy Foods</td>\n",
       "      <td>21880.0274</td>\n",
       "    </tr>\n",
       "    <tr>\n",
       "      <th>3</th>\n",
       "      <td>Others</td>\n",
       "      <td>22451.8916</td>\n",
       "    </tr>\n",
       "    <tr>\n",
       "      <th>4</th>\n",
       "      <td>Hard Drinks</td>\n",
       "      <td>29334.6766</td>\n",
       "    </tr>\n",
       "    <tr>\n",
       "      <th>5</th>\n",
       "      <td>Breads</td>\n",
       "      <td>35379.1198</td>\n",
       "    </tr>\n",
       "    <tr>\n",
       "      <th>6</th>\n",
       "      <td>Soft Drinks</td>\n",
       "      <td>58514.1650</td>\n",
       "    </tr>\n",
       "    <tr>\n",
       "      <th>7</th>\n",
       "      <td>Meat</td>\n",
       "      <td>59449.8638</td>\n",
       "    </tr>\n",
       "    <tr>\n",
       "      <th>8</th>\n",
       "      <td>Health and Hygiene</td>\n",
       "      <td>68025.8388</td>\n",
       "    </tr>\n",
       "    <tr>\n",
       "      <th>9</th>\n",
       "      <td>Baking Goods</td>\n",
       "      <td>81894.7364</td>\n",
       "    </tr>\n",
       "    <tr>\n",
       "      <th>10</th>\n",
       "      <td>Canned</td>\n",
       "      <td>90706.7270</td>\n",
       "    </tr>\n",
       "    <tr>\n",
       "      <th>11</th>\n",
       "      <td>Dairy</td>\n",
       "      <td>101276.4596</td>\n",
       "    </tr>\n",
       "    <tr>\n",
       "      <th>12</th>\n",
       "      <td>Frozen Foods</td>\n",
       "      <td>118558.8814</td>\n",
       "    </tr>\n",
       "    <tr>\n",
       "      <th>13</th>\n",
       "      <td>Household</td>\n",
       "      <td>135976.5254</td>\n",
       "    </tr>\n",
       "    <tr>\n",
       "      <th>14</th>\n",
       "      <td>Snack Foods</td>\n",
       "      <td>175433.9204</td>\n",
       "    </tr>\n",
       "    <tr>\n",
       "      <th>15</th>\n",
       "      <td>Fruits and Vegetables</td>\n",
       "      <td>178124.0810</td>\n",
       "    </tr>\n",
       "  </tbody>\n",
       "</table>\n",
       "</div>"
      ],
      "text/plain": [
       "                Item Type  Total Sales\n",
       "0                 Seafood    9077.8700\n",
       "1               Breakfast   15596.6966\n",
       "2           Starchy Foods   21880.0274\n",
       "3                  Others   22451.8916\n",
       "4             Hard Drinks   29334.6766\n",
       "5                  Breads   35379.1198\n",
       "6             Soft Drinks   58514.1650\n",
       "7                    Meat   59449.8638\n",
       "8      Health and Hygiene   68025.8388\n",
       "9            Baking Goods   81894.7364\n",
       "10                 Canned   90706.7270\n",
       "11                  Dairy  101276.4596\n",
       "12           Frozen Foods  118558.8814\n",
       "13              Household  135976.5254\n",
       "14            Snack Foods  175433.9204\n",
       "15  Fruits and Vegetables  178124.0810"
      ]
     },
     "execution_count": 142,
     "metadata": {},
     "output_type": "execute_result"
    }
   ],
   "source": [
    "item_df = df.groupby('Item Type').agg({'Sales': 'sum'})\n",
    "item_df = item_df.sort_values('Sales', ascending=True).reset_index()\n",
    "item_df.rename(columns={'Sales': 'Total Sales'}, inplace=True)\n",
    "item_df"
   ]
  },
  {
   "cell_type": "code",
   "execution_count": 143,
   "id": "7282bc36",
   "metadata": {},
   "outputs": [
    {
     "data": {
      "image/png": "[encoded data removed]",
      "text/plain": [
       "<Figure size 640x480 with 1 Axes>"
      ]
     },
     "metadata": {},
     "output_type": "display_data"
    }
   ],
   "source": [
    "sns.barplot(x='Total Sales', y='Item Type', data=item_df)\n",
    "plt.title('Total Sales by Item Type')\n",
    "plt.show()"
   ]
  },
  {
   "cell_type": "markdown",
   "id": "e6fd8864",
   "metadata": {},
   "source": [
    "### Objective: Compare total sales across different outlets segmented by fat content."
   ]
  },
  {
   "cell_type": "code",
   "execution_count": 144,
   "id": "9980914c",
   "metadata": {},
   "outputs": [
    {
     "data": {
      "application/vnd.microsoft.datawrangler.viewer.v0+json": {
       "columns": [
        {
         "name": "index",
         "rawType": "int64",
         "type": "integer"
        },
        {
         "name": "index",
         "rawType": "int64",
         "type": "integer"
        },
        {
         "name": "Item Fat Content",
         "rawType": "object",
         "type": "string"
        },
        {
         "name": "Item Identifier",
         "rawType": "object",
         "type": "string"
        },
        {
         "name": "Item Type",
         "rawType": "object",
         "type": "string"
        },
        {
         "name": "Outlet Establishment Year",
         "rawType": "int64",
         "type": "integer"
        },
        {
         "name": "Outlet Identifier",
         "rawType": "category",
         "type": "unknown"
        },
        {
         "name": "Outlet Location Type",
         "rawType": "object",
         "type": "string"
        },
        {
         "name": "Outlet Size",
         "rawType": "object",
         "type": "string"
        },
        {
         "name": "Outlet Type",
         "rawType": "object",
         "type": "string"
        },
        {
         "name": "Item Visibility",
         "rawType": "float64",
         "type": "float"
        },
        {
         "name": "Item Weight",
         "rawType": "float64",
         "type": "float"
        },
        {
         "name": "Sales",
         "rawType": "float64",
         "type": "float"
        },
        {
         "name": "Rating",
         "rawType": "float64",
         "type": "float"
        }
       ],
       "conversionMethod": "pd.DataFrame",
       "ref": "31988a6f-03d0-4d50-95a6-43f35818aba0",
       "rows": [
        [
         "0",
         "0",
         "Regular",
         "FDX32",
         "Fruits and Vegetables",
         "2012",
         "OUT049",
         "Tier 1",
         "Medium",
         "Supermarket Type1",
         "0.1000135",
         "15.1",
         "145.4786",
         "5.0"
        ],
        [
         "1",
         "1",
         "Low Fat",
         "NCB42",
         "Health and Hygiene",
         "2022",
         "OUT018",
         "Tier 3",
         "Medium",
         "Supermarket Type2",
         "0.008596051",
         "11.8",
         "115.3492",
         "5.0"
        ],
        [
         "2",
         "2",
         "Regular",
         "FDR28",
         "Frozen Foods",
         "2010",
         "OUT046",
         "Tier 1",
         "Small",
         "Supermarket Type1",
         "0.025896485",
         "13.85",
         "165.021",
         "5.0"
        ],
        [
         "3",
         "3",
         "Regular",
         "FDL50",
         "Canned",
         "2000",
         "OUT013",
         "Tier 3",
         "High",
         "Supermarket Type1",
         "0.042277867",
         "12.15",
         "126.5046",
         "5.0"
        ],
        [
         "4",
         "4",
         "Low Fat",
         "DRI25",
         "Soft Drinks",
         "2015",
         "OUT045",
         "Tier 2",
         "Small",
         "Supermarket Type1",
         "0.033970195",
         "19.6",
         "55.1614",
         "5.0"
        ],
        [
         "5",
         "5",
         "Low Fat",
         "FDS52",
         "Frozen Foods",
         "2020",
         "OUT017",
         "Tier 2",
         "Small",
         "Supermarket Type1",
         "0.005505481",
         "8.89",
         "102.4016",
         "5.0"
        ],
        [
         "6",
         "6",
         "Low Fat",
         "NCU05",
         "Health and Hygiene",
         "2011",
         "OUT010",
         "Tier 3",
         "Small",
         "Grocery Store",
         "0.098312421",
         "11.8",
         "81.4618",
         "5.0"
        ],
        [
         "7",
         "7",
         "Low Fat",
         "NCD30",
         "Household",
         "2015",
         "OUT045",
         "Tier 2",
         "Small",
         "Supermarket Type1",
         "0.026903714",
         "19.7",
         "96.0726",
         "5.0"
        ],
        [
         "8",
         "8",
         "Low Fat",
         "FDW20",
         "Fruits and Vegetables",
         "2000",
         "OUT013",
         "Tier 3",
         "High",
         "Supermarket Type1",
         "0.024129332",
         "20.75",
         "124.173",
         "5.0"
        ],
        [
         "9",
         "9",
         "Low Fat",
         "FDX25",
         "Canned",
         "1998",
         "OUT027",
         "Tier 3",
         "Medium",
         "Supermarket Type3",
         "0.101561568",
         null,
         "181.9292",
         "5.0"
        ],
        [
         "10",
         "10",
         "Low Fat",
         "FDX21",
         "Snack Foods",
         "1998",
         "OUT027",
         "Tier 3",
         "Medium",
         "Supermarket Type3",
         "0.084554569",
         null,
         "109.8912",
         "5.0"
        ],
        [
         "11",
         "11",
         "Low Fat",
         "NCU41",
         "Health and Hygiene",
         "2017",
         "OUT035",
         "Tier 2",
         "Small",
         "Supermarket Type1",
         "0.052044976",
         "18.85",
         "192.1846",
         "5.0"
        ],
        [
         "12",
         "12",
         "Low Fat",
         "FDL20",
         "Fruits and Vegetables",
         "2022",
         "OUT018",
         "Tier 3",
         "Medium",
         "Supermarket Type2",
         "0.128937661",
         "17.1",
         "112.3886",
         "5.0"
        ],
        [
         "13",
         "13",
         "Low Fat",
         "NCR54",
         "Household",
         "2000",
         "OUT013",
         "Tier 3",
         "High",
         "Supermarket Type1",
         "0.090486828",
         "16.35",
         "195.211",
         "5.0"
        ],
        [
         "14",
         "14",
         "Low Fat",
         "FDH19",
         "Meat",
         "1998",
         "OUT027",
         "Tier 3",
         "Medium",
         "Supermarket Type3",
         "0.03292824",
         null,
         "173.1738",
         "5.0"
        ],
        [
         "15",
         "15",
         "Regular",
         "FDB57",
         "Fruits and Vegetables",
         "2017",
         "OUT035",
         "Tier 2",
         "Small",
         "Supermarket Type1",
         "0.018801549",
         "20.25",
         "222.1772",
         "5.0"
        ],
        [
         "16",
         "16",
         "Low Fat",
         "FDO23",
         "Breads",
         "2022",
         "OUT018",
         "Tier 3",
         "Medium",
         "Supermarket Type2",
         "0.147023834",
         "17.85",
         "93.7436",
         "5.0"
        ],
        [
         "17",
         "17",
         "Low Fat",
         "NCB07",
         "Household",
         "2012",
         "OUT049",
         "Tier 1",
         "Medium",
         "Supermarket Type1",
         "0.077628053",
         "19.2",
         "197.611",
         "5.0"
        ],
        [
         "18",
         "18",
         "Low Fat",
         "FDJ56",
         "Fruits and Vegetables",
         "1998",
         "OUT027",
         "Tier 3",
         "Medium",
         "Supermarket Type3",
         "0.182514881",
         null,
         "98.77",
         "5.0"
        ],
        [
         "19",
         "19",
         "Low Fat",
         "DRN47",
         "Hard Drinks",
         "2022",
         "OUT018",
         "Tier 3",
         "Medium",
         "Supermarket Type2",
         "0.016895293",
         "12.1",
         "178.566",
         "5.0"
        ],
        [
         "20",
         "20",
         "Regular",
         "FDZ07",
         "Fruits and Vegetables",
         "1998",
         "OUT027",
         "Tier 3",
         "Medium",
         "Supermarket Type3",
         "0.0",
         null,
         "60.2194",
         "5.0"
        ],
        [
         "21",
         "21",
         "Low Fat",
         "NCK31",
         "Others",
         "1998",
         "OUT027",
         "Tier 3",
         "Medium",
         "Supermarket Type3",
         "0.026916794",
         null,
         "50.9666",
         "5.0"
        ],
        [
         "22",
         "22",
         "Low Fat",
         "FDJ41",
         "Frozen Foods",
         "2022",
         "OUT018",
         "Tier 3",
         "Medium",
         "Supermarket Type2",
         "0.022976497",
         "6.85",
         "261.6594",
         "5.0"
        ],
        [
         "23",
         "23",
         "Low Fat",
         "DRI51",
         "Dairy",
         "2022",
         "OUT018",
         "Tier 3",
         "Medium",
         "Supermarket Type2",
         "0.042413704",
         "17.25",
         "173.1764",
         "5.0"
        ],
        [
         "24",
         "24",
         "Regular",
         "FDC40",
         "Dairy",
         "2020",
         "OUT017",
         "Tier 2",
         "Medium",
         "Supermarket Type1",
         "0.065431917",
         "16.0",
         "76.1986",
         "5.0"
        ],
        [
         "25",
         "25",
         "Low Fat",
         "FDB53",
         "Frozen Foods",
         "2020",
         "OUT017",
         "Tier 2",
         "Medium",
         "Supermarket Type1",
         "0.140241213",
         "13.35",
         "150.2392",
         "5.0"
        ],
        [
         "26",
         "26",
         "Low Fat",
         "FDA16",
         "Frozen Foods",
         "2017",
         "OUT035",
         "Tier 2",
         "Small",
         "Supermarket Type1",
         "0.033935576",
         "6.695",
         "221.9456",
         "5.0"
        ],
        [
         "27",
         "27",
         "Regular",
         "FDO19",
         "Fruits and Vegetables",
         "1998",
         "OUT027",
         "Tier 3",
         "Medium",
         "Supermarket Type3",
         "0.016516275",
         null,
         "47.4034",
         "5.0"
        ],
        [
         "28",
         "28",
         "Low Fat",
         "FDO04",
         "Frozen Foods",
         "2010",
         "OUT046",
         "Tier 1",
         "Small",
         "Supermarket Type1",
         "0.026537206",
         "16.6",
         "57.2614",
         "5.0"
        ],
        [
         "29",
         "29",
         "Regular",
         "FDL25",
         "Breakfast",
         "2012",
         "OUT049",
         "Tier 1",
         "Medium",
         "Supermarket Type1",
         "0.131128467",
         "6.92",
         "93.1804",
         "5.0"
        ],
        [
         "30",
         "30",
         "Low Fat",
         "NCJ30",
         "Household",
         "2010",
         "OUT046",
         "Tier 1",
         "Small",
         "Supermarket Type1",
         "0.080640478",
         "5.82",
         "167.779",
         "5.0"
        ],
        [
         "31",
         "31",
         "Low Fat",
         "NCQ41",
         "Health and Hygiene",
         "2000",
         "OUT013",
         "Tier 3",
         "High",
         "Supermarket Type1",
         "0.01946418",
         "14.8",
         "196.3794",
         "5.0"
        ],
        [
         "32",
         "32",
         "Low Fat",
         "DRJ35",
         "Hard Drinks",
         "2000",
         "OUT013",
         "Tier 3",
         "High",
         "Supermarket Type1",
         "0.046545786",
         "10.1",
         "59.9878",
         "5.0"
        ],
        [
         "33",
         "33",
         "Low Fat",
         "NCE31",
         "Household",
         "2000",
         "OUT013",
         "Tier 3",
         "High",
         "Supermarket Type1",
         "0.184689756",
         "7.67",
         "35.4216",
         "5.0"
        ],
        [
         "34",
         "34",
         "Low Fat",
         "FDY09",
         "Snack Foods",
         "2020",
         "OUT017",
         "Tier 2",
         "Medium",
         "Supermarket Type1",
         "0.025342692",
         "15.6",
         "174.3054",
         "5.0"
        ],
        [
         "35",
         "35",
         "Low Fat",
         "FDZ04",
         "Frozen Foods",
         "2000",
         "OUT013",
         "Tier 3",
         "High",
         "Supermarket Type1",
         "0.037923509",
         "9.31",
         "61.651",
         "5.0"
        ],
        [
         "36",
         "36",
         "Low Fat",
         "FDY07",
         "Fruits and Vegetables",
         "2015",
         "OUT045",
         "Tier 2",
         "Medium",
         "Supermarket Type1",
         "0.121848436",
         "11.8",
         "46.8402",
         "5.0"
        ],
        [
         "37",
         "37",
         "Regular",
         "FDO45",
         "Snack Foods",
         "2015",
         "OUT045",
         "Tier 2",
         "Medium",
         "Supermarket Type1",
         "0.038029746",
         "13.15",
         "88.6856",
         "5.0"
        ],
        [
         "38",
         "38",
         "Low Fat",
         "FDB09",
         "Fruits and Vegetables",
         "2012",
         "OUT049",
         "Tier 1",
         "Medium",
         "Supermarket Type1",
         "0.057485328",
         "16.25",
         "126.2046",
         "5.0"
        ],
        [
         "39",
         "39",
         "Regular",
         "FDP51",
         "Meat",
         "2010",
         "OUT046",
         "Tier 1",
         "Small",
         "Supermarket Type1",
         "0.085274988",
         "13.85",
         "119.6124",
         "5.0"
        ],
        [
         "40",
         "40",
         "Regular",
         "FDT50",
         "Dairy",
         "2000",
         "OUT013",
         "Tier 3",
         "High",
         "Supermarket Type1",
         "0.108148913",
         "6.75",
         "95.6752",
         "5.0"
        ],
        [
         "41",
         "41",
         "Regular",
         "FDQ08",
         "Fruits and Vegetables",
         "1998",
         "OUT027",
         "Tier 3",
         "Medium",
         "Supermarket Type3",
         "0.018838681",
         null,
         "62.9536",
         "5.0"
        ],
        [
         "42",
         "42",
         "Low Fat",
         "DRL11",
         "Hard Drinks",
         "2015",
         "OUT045",
         "Tier 2",
         "Medium",
         "Supermarket Type1",
         "0.048115543",
         "10.5",
         "159.0946",
         "5.0"
        ],
        [
         "43",
         "43",
         "Low Fat",
         "FDT34",
         "Snack Foods",
         "2012",
         "OUT049",
         "Tier 1",
         "Medium",
         "Supermarket Type1",
         "0.174621343",
         "9.3",
         "104.2964",
         "5.0"
        ],
        [
         "44",
         "44",
         "Regular",
         "FDP01",
         "Breakfast",
         "2011",
         "OUT010",
         "Tier 3",
         "Medium",
         "Grocery Store",
         "0.105994654",
         "20.75",
         "150.5682",
         "5.0"
        ],
        [
         "45",
         "45",
         "Low Fat",
         "NCJ31",
         "Others",
         "2000",
         "OUT013",
         "Tier 3",
         "High",
         "Supermarket Type1",
         "0.182501773",
         "19.2",
         "239.2196",
         "5.0"
        ],
        [
         "46",
         "46",
         "Low Fat",
         "NCL30",
         "Household",
         "2017",
         "OUT035",
         "Tier 2",
         "Small",
         "Supermarket Type1",
         "0.048931174",
         "18.1",
         "127.3336",
         "5.0"
        ],
        [
         "47",
         "47",
         "Low Fat",
         "FDF04",
         "Frozen Foods",
         "2012",
         "OUT049",
         "Tier 1",
         "Medium",
         "Supermarket Type1",
         "0.013658248",
         "17.5",
         "256.3304",
         "5.0"
        ],
        [
         "48",
         "48",
         "Low Fat",
         "NCZ42",
         "Household",
         "2012",
         "OUT049",
         "Tier 1",
         "Medium",
         "Supermarket Type1",
         "0.011305479",
         "10.5",
         "235.5248",
         "5.0"
        ],
        [
         "49",
         "49",
         "Low Fat",
         "FDG24",
         "Baking Goods",
         "2012",
         "OUT049",
         "Tier 1",
         "Medium",
         "Supermarket Type1",
         "0.014653896",
         "7.975",
         "82.425",
         "5.0"
        ]
       ],
       "shape": {
        "columns": 13,
        "rows": 8523
       }
      },
      "text/html": [
       "<div>\n",
       "<style scoped>\n",
       "    .dataframe tbody tr th:only-of-type {\n",
       "        vertical-align: middle;\n",
       "    }\n",
       "\n",
       "    .dataframe tbody tr th {\n",
       "        vertical-align: top;\n",
       "    }\n",
       "\n",
       "    .dataframe thead th {\n",
       "        text-align: right;\n",
       "    }\n",
       "</style>\n",
       "<table border=\"1\" class=\"dataframe\">\n",
       "  <thead>\n",
       "    <tr style=\"text-align: right;\">\n",
       "      <th></th>\n",
       "      <th>index</th>\n",
       "      <th>Item Fat Content</th>\n",
       "      <th>Item Identifier</th>\n",
       "      <th>Item Type</th>\n",
       "      <th>Outlet Establishment Year</th>\n",
       "      <th>Outlet Identifier</th>\n",
       "      <th>Outlet Location Type</th>\n",
       "      <th>Outlet Size</th>\n",
       "      <th>Outlet Type</th>\n",
       "      <th>Item Visibility</th>\n",
       "      <th>Item Weight</th>\n",
       "      <th>Sales</th>\n",
       "      <th>Rating</th>\n",
       "    </tr>\n",
       "  </thead>\n",
       "  <tbody>\n",
       "    <tr>\n",
       "      <th>0</th>\n",
       "      <td>0</td>\n",
       "      <td>Regular</td>\n",
       "      <td>FDX32</td>\n",
       "      <td>Fruits and Vegetables</td>\n",
       "      <td>2012</td>\n",
       "      <td>OUT049</td>\n",
       "      <td>Tier 1</td>\n",
       "      <td>Medium</td>\n",
       "      <td>Supermarket Type1</td>\n",
       "      <td>0.100014</td>\n",
       "      <td>15.10</td>\n",
       "      <td>145.4786</td>\n",
       "      <td>5.0</td>\n",
       "    </tr>\n",
       "    <tr>\n",
       "      <th>1</th>\n",
       "      <td>1</td>\n",
       "      <td>Low Fat</td>\n",
       "      <td>NCB42</td>\n",
       "      <td>Health and Hygiene</td>\n",
       "      <td>2022</td>\n",
       "      <td>OUT018</td>\n",
       "      <td>Tier 3</td>\n",
       "      <td>Medium</td>\n",
       "      <td>Supermarket Type2</td>\n",
       "      <td>0.008596</td>\n",
       "      <td>11.80</td>\n",
       "      <td>115.3492</td>\n",
       "      <td>5.0</td>\n",
       "    </tr>\n",
       "    <tr>\n",
       "      <th>2</th>\n",
       "      <td>2</td>\n",
       "      <td>Regular</td>\n",
       "      <td>FDR28</td>\n",
       "      <td>Frozen Foods</td>\n",
       "      <td>2010</td>\n",
       "      <td>OUT046</td>\n",
       "      <td>Tier 1</td>\n",
       "      <td>Small</td>\n",
       "      <td>Supermarket Type1</td>\n",
       "      <td>0.025896</td>\n",
       "      <td>13.85</td>\n",
       "      <td>165.0210</td>\n",
       "      <td>5.0</td>\n",
       "    </tr>\n",
       "    <tr>\n",
       "      <th>3</th>\n",
       "      <td>3</td>\n",
       "      <td>Regular</td>\n",
       "      <td>FDL50</td>\n",
       "      <td>Canned</td>\n",
       "      <td>2000</td>\n",
       "      <td>OUT013</td>\n",
       "      <td>Tier 3</td>\n",
       "      <td>High</td>\n",
       "      <td>Supermarket Type1</td>\n",
       "      <td>0.042278</td>\n",
       "      <td>12.15</td>\n",
       "      <td>126.5046</td>\n",
       "      <td>5.0</td>\n",
       "    </tr>\n",
       "    <tr>\n",
       "      <th>4</th>\n",
       "      <td>4</td>\n",
       "      <td>Low Fat</td>\n",
       "      <td>DRI25</td>\n",
       "      <td>Soft Drinks</td>\n",
       "      <td>2015</td>\n",
       "      <td>OUT045</td>\n",
       "      <td>Tier 2</td>\n",
       "      <td>Small</td>\n",
       "      <td>Supermarket Type1</td>\n",
       "      <td>0.033970</td>\n",
       "      <td>19.60</td>\n",
       "      <td>55.1614</td>\n",
       "      <td>5.0</td>\n",
       "    </tr>\n",
       "    <tr>\n",
       "      <th>...</th>\n",
       "      <td>...</td>\n",
       "      <td>...</td>\n",
       "      <td>...</td>\n",
       "      <td>...</td>\n",
       "      <td>...</td>\n",
       "      <td>...</td>\n",
       "      <td>...</td>\n",
       "      <td>...</td>\n",
       "      <td>...</td>\n",
       "      <td>...</td>\n",
       "      <td>...</td>\n",
       "      <td>...</td>\n",
       "      <td>...</td>\n",
       "    </tr>\n",
       "    <tr>\n",
       "      <th>8518</th>\n",
       "      <td>8518</td>\n",
       "      <td>Low Fat</td>\n",
       "      <td>NCT53</td>\n",
       "      <td>Health and Hygiene</td>\n",
       "      <td>1998</td>\n",
       "      <td>OUT027</td>\n",
       "      <td>Tier 3</td>\n",
       "      <td>Medium</td>\n",
       "      <td>Supermarket Type3</td>\n",
       "      <td>0.000000</td>\n",
       "      <td>NaN</td>\n",
       "      <td>164.5526</td>\n",
       "      <td>4.0</td>\n",
       "    </tr>\n",
       "    <tr>\n",
       "      <th>8519</th>\n",
       "      <td>8519</td>\n",
       "      <td>Low Fat</td>\n",
       "      <td>FDN09</td>\n",
       "      <td>Snack Foods</td>\n",
       "      <td>1998</td>\n",
       "      <td>OUT027</td>\n",
       "      <td>Tier 3</td>\n",
       "      <td>Medium</td>\n",
       "      <td>Supermarket Type3</td>\n",
       "      <td>0.034706</td>\n",
       "      <td>NaN</td>\n",
       "      <td>241.6828</td>\n",
       "      <td>4.0</td>\n",
       "    </tr>\n",
       "    <tr>\n",
       "      <th>8520</th>\n",
       "      <td>8520</td>\n",
       "      <td>Low Fat</td>\n",
       "      <td>DRE13</td>\n",
       "      <td>Soft Drinks</td>\n",
       "      <td>1998</td>\n",
       "      <td>OUT027</td>\n",
       "      <td>Tier 3</td>\n",
       "      <td>Medium</td>\n",
       "      <td>Supermarket Type3</td>\n",
       "      <td>0.027571</td>\n",
       "      <td>NaN</td>\n",
       "      <td>86.6198</td>\n",
       "      <td>4.0</td>\n",
       "    </tr>\n",
       "    <tr>\n",
       "      <th>8521</th>\n",
       "      <td>8521</td>\n",
       "      <td>Regular</td>\n",
       "      <td>FDT50</td>\n",
       "      <td>Dairy</td>\n",
       "      <td>1998</td>\n",
       "      <td>OUT027</td>\n",
       "      <td>Tier 3</td>\n",
       "      <td>Medium</td>\n",
       "      <td>Supermarket Type3</td>\n",
       "      <td>0.107715</td>\n",
       "      <td>NaN</td>\n",
       "      <td>97.8752</td>\n",
       "      <td>4.0</td>\n",
       "    </tr>\n",
       "    <tr>\n",
       "      <th>8522</th>\n",
       "      <td>8522</td>\n",
       "      <td>Regular</td>\n",
       "      <td>FDM58</td>\n",
       "      <td>Snack Foods</td>\n",
       "      <td>1998</td>\n",
       "      <td>OUT027</td>\n",
       "      <td>Tier 3</td>\n",
       "      <td>Medium</td>\n",
       "      <td>Supermarket Type3</td>\n",
       "      <td>0.000000</td>\n",
       "      <td>NaN</td>\n",
       "      <td>112.2544</td>\n",
       "      <td>4.0</td>\n",
       "    </tr>\n",
       "  </tbody>\n",
       "</table>\n",
       "<p>8523 rows × 13 columns</p>\n",
       "</div>"
      ],
      "text/plain": [
       "      index Item Fat Content Item Identifier              Item Type  \\\n",
       "0         0          Regular           FDX32  Fruits and Vegetables   \n",
       "1         1          Low Fat           NCB42     Health and Hygiene   \n",
       "2         2          Regular           FDR28           Frozen Foods   \n",
       "3         3          Regular           FDL50                 Canned   \n",
       "4         4          Low Fat           DRI25            Soft Drinks   \n",
       "...     ...              ...             ...                    ...   \n",
       "8518   8518          Low Fat           NCT53     Health and Hygiene   \n",
       "8519   8519          Low Fat           FDN09            Snack Foods   \n",
       "8520   8520          Low Fat           DRE13            Soft Drinks   \n",
       "8521   8521          Regular           FDT50                  Dairy   \n",
       "8522   8522          Regular           FDM58            Snack Foods   \n",
       "\n",
       "      Outlet Establishment Year Outlet Identifier Outlet Location Type  \\\n",
       "0                          2012            OUT049               Tier 1   \n",
       "1                          2022            OUT018               Tier 3   \n",
       "2                          2010            OUT046               Tier 1   \n",
       "3                          2000            OUT013               Tier 3   \n",
       "4                          2015            OUT045               Tier 2   \n",
       "...                         ...               ...                  ...   \n",
       "8518                       1998            OUT027               Tier 3   \n",
       "8519                       1998            OUT027               Tier 3   \n",
       "8520                       1998            OUT027               Tier 3   \n",
       "8521                       1998            OUT027               Tier 3   \n",
       "8522                       1998            OUT027               Tier 3   \n",
       "\n",
       "     Outlet Size        Outlet Type  Item Visibility  Item Weight     Sales  \\\n",
       "0         Medium  Supermarket Type1         0.100014        15.10  145.4786   \n",
       "1         Medium  Supermarket Type2         0.008596        11.80  115.3492   \n",
       "2          Small  Supermarket Type1         0.025896        13.85  165.0210   \n",
       "3           High  Supermarket Type1         0.042278        12.15  126.5046   \n",
       "4          Small  Supermarket Type1         0.033970        19.60   55.1614   \n",
       "...          ...                ...              ...          ...       ...   \n",
       "8518      Medium  Supermarket Type3         0.000000          NaN  164.5526   \n",
       "8519      Medium  Supermarket Type3         0.034706          NaN  241.6828   \n",
       "8520      Medium  Supermarket Type3         0.027571          NaN   86.6198   \n",
       "8521      Medium  Supermarket Type3         0.107715          NaN   97.8752   \n",
       "8522      Medium  Supermarket Type3         0.000000          NaN  112.2544   \n",
       "\n",
       "      Rating  \n",
       "0        5.0  \n",
       "1        5.0  \n",
       "2        5.0  \n",
       "3        5.0  \n",
       "4        5.0  \n",
       "...      ...  \n",
       "8518     4.0  \n",
       "8519     4.0  \n",
       "8520     4.0  \n",
       "8521     4.0  \n",
       "8522     4.0  \n",
       "\n",
       "[8523 rows x 13 columns]"
      ]
     },
     "execution_count": 144,
     "metadata": {},
     "output_type": "execute_result"
    }
   ],
   "source": [
    "df = df.reset_index()\n",
    "df['Outlet Identifier'] = df['Outlet Identifier'].astype('category')\n",
    "df\n"
   ]
  },
  {
   "cell_type": "code",
   "execution_count": 145,
   "id": "9a5c3f79",
   "metadata": {},
   "outputs": [
    {
     "name": "stderr",
     "output_type": "stream",
     "text": [
      "C:\\Users\\conif\\AppData\\Local\\Temp\\ipykernel_8356\\4055361785.py:1: FutureWarning: The default of observed=False is deprecated and will be changed to True in a future version of pandas. Pass observed=False to retain current behavior or observed=True to adopt the future default and silence this warning.\n",
      "  fat_outlet_df = df.groupby(by=['Item Fat Content', 'Outlet Identifier']).agg({'Sales': 'sum'})\n"
     ]
    },
    {
     "data": {
      "application/vnd.microsoft.datawrangler.viewer.v0+json": {
       "columns": [
        {
         "name": "index",
         "rawType": "int64",
         "type": "integer"
        },
        {
         "name": "Item Fat Content",
         "rawType": "object",
         "type": "string"
        },
        {
         "name": "Outlet Identifier",
         "rawType": "category",
         "type": "unknown"
        },
        {
         "name": "Sales",
         "rawType": "float64",
         "type": "float"
        }
       ],
       "conversionMethod": "pd.DataFrame",
       "ref": "5e70e2ab-21d0-46e5-8801-e5d0aca75116",
       "rows": [
        [
         "0",
         "Low Fat",
         "OUT010",
         "51785.8296"
        ],
        [
         "1",
         "Low Fat",
         "OUT013",
         "86402.1448"
        ],
        [
         "2",
         "Low Fat",
         "OUT017",
         "82947.0458"
        ],
        [
         "3",
         "Low Fat",
         "OUT018",
         "84844.607"
        ],
        [
         "4",
         "Low Fat",
         "OUT019",
         "48028.5354"
        ]
       ],
       "shape": {
        "columns": 3,
        "rows": 5
       }
      },
      "text/html": [
       "<div>\n",
       "<style scoped>\n",
       "    .dataframe tbody tr th:only-of-type {\n",
       "        vertical-align: middle;\n",
       "    }\n",
       "\n",
       "    .dataframe tbody tr th {\n",
       "        vertical-align: top;\n",
       "    }\n",
       "\n",
       "    .dataframe thead th {\n",
       "        text-align: right;\n",
       "    }\n",
       "</style>\n",
       "<table border=\"1\" class=\"dataframe\">\n",
       "  <thead>\n",
       "    <tr style=\"text-align: right;\">\n",
       "      <th></th>\n",
       "      <th>Item Fat Content</th>\n",
       "      <th>Outlet Identifier</th>\n",
       "      <th>Sales</th>\n",
       "    </tr>\n",
       "  </thead>\n",
       "  <tbody>\n",
       "    <tr>\n",
       "      <th>0</th>\n",
       "      <td>Low Fat</td>\n",
       "      <td>OUT010</td>\n",
       "      <td>51785.8296</td>\n",
       "    </tr>\n",
       "    <tr>\n",
       "      <th>1</th>\n",
       "      <td>Low Fat</td>\n",
       "      <td>OUT013</td>\n",
       "      <td>86402.1448</td>\n",
       "    </tr>\n",
       "    <tr>\n",
       "      <th>2</th>\n",
       "      <td>Low Fat</td>\n",
       "      <td>OUT017</td>\n",
       "      <td>82947.0458</td>\n",
       "    </tr>\n",
       "    <tr>\n",
       "      <th>3</th>\n",
       "      <td>Low Fat</td>\n",
       "      <td>OUT018</td>\n",
       "      <td>84844.6070</td>\n",
       "    </tr>\n",
       "    <tr>\n",
       "      <th>4</th>\n",
       "      <td>Low Fat</td>\n",
       "      <td>OUT019</td>\n",
       "      <td>48028.5354</td>\n",
       "    </tr>\n",
       "  </tbody>\n",
       "</table>\n",
       "</div>"
      ],
      "text/plain": [
       "  Item Fat Content Outlet Identifier       Sales\n",
       "0          Low Fat            OUT010  51785.8296\n",
       "1          Low Fat            OUT013  86402.1448\n",
       "2          Low Fat            OUT017  82947.0458\n",
       "3          Low Fat            OUT018  84844.6070\n",
       "4          Low Fat            OUT019  48028.5354"
      ]
     },
     "execution_count": 145,
     "metadata": {},
     "output_type": "execute_result"
    }
   ],
   "source": [
    "\n",
    "fat_outlet_df = df.groupby(by=['Item Fat Content', 'Outlet Identifier']).agg({'Sales': 'sum'})\n",
    "fat_outlet_df.reset_index().head()\n",
    "  "
   ]
  },
  {
   "cell_type": "code",
   "execution_count": 146,
   "id": "bc40434a",
   "metadata": {},
   "outputs": [
    {
     "data": {
      "application/vnd.microsoft.datawrangler.viewer.v0+json": {
       "columns": [
        {
         "name": "index",
         "rawType": "int64",
         "type": "integer"
        },
        {
         "name": "Item Fat Content",
         "rawType": "object",
         "type": "string"
        },
        {
         "name": "Outlet Identifier",
         "rawType": "category",
         "type": "unknown"
        },
        {
         "name": "Total Sales",
         "rawType": "float64",
         "type": "float"
        }
       ],
       "conversionMethod": "pd.DataFrame",
       "ref": "ea2caed2-dfc8-44ff-8815-1e09fac1c97f",
       "rows": [
        [
         "14",
         "Regular",
         "OUT019",
         "25779.047"
        ],
        [
         "10",
         "Regular",
         "OUT010",
         "26345.735"
        ],
        [
         "11",
         "Regular",
         "OUT013",
         "45406.8708"
        ],
        [
         "17",
         "Regular",
         "OUT045",
         "45907.968"
        ],
        [
         "12",
         "Regular",
         "OUT017",
         "46156.9106"
        ],
        [
         "16",
         "Regular",
         "OUT035",
         "46620.9896"
        ],
        [
         "13",
         "Regular",
         "OUT018",
         "46633.1654"
        ],
        [
         "15",
         "Regular",
         "OUT027",
         "46940.2636"
        ],
        [
         "18",
         "Regular",
         "OUT046",
         "47510.0486"
        ],
        [
         "4",
         "Low Fat",
         "OUT019",
         "48028.5354"
        ],
        [
         "19",
         "Regular",
         "OUT049",
         "48060.8038"
        ],
        [
         "0",
         "Low Fat",
         "OUT010",
         "51785.8296"
        ],
        [
         "9",
         "Low Fat",
         "OUT049",
         "82416.056"
        ],
        [
         "2",
         "Low Fat",
         "OUT017",
         "82947.0458"
        ],
        [
         "5",
         "Low Fat",
         "OUT027",
         "83774.411"
        ],
        [
         "8",
         "Low Fat",
         "OUT046",
         "84603.3212"
        ],
        [
         "3",
         "Low Fat",
         "OUT018",
         "84844.607"
        ],
        [
         "7",
         "Low Fat",
         "OUT045",
         "85034.8102"
        ],
        [
         "1",
         "Low Fat",
         "OUT013",
         "86402.1448"
        ],
        [
         "6",
         "Low Fat",
         "OUT035",
         "86482.9174"
        ]
       ],
       "shape": {
        "columns": 3,
        "rows": 20
       }
      },
      "text/html": [
       "<div>\n",
       "<style scoped>\n",
       "    .dataframe tbody tr th:only-of-type {\n",
       "        vertical-align: middle;\n",
       "    }\n",
       "\n",
       "    .dataframe tbody tr th {\n",
       "        vertical-align: top;\n",
       "    }\n",
       "\n",
       "    .dataframe thead th {\n",
       "        text-align: right;\n",
       "    }\n",
       "</style>\n",
       "<table border=\"1\" class=\"dataframe\">\n",
       "  <thead>\n",
       "    <tr style=\"text-align: right;\">\n",
       "      <th></th>\n",
       "      <th>Item Fat Content</th>\n",
       "      <th>Outlet Identifier</th>\n",
       "      <th>Total Sales</th>\n",
       "    </tr>\n",
       "  </thead>\n",
       "  <tbody>\n",
       "    <tr>\n",
       "      <th>14</th>\n",
       "      <td>Regular</td>\n",
       "      <td>OUT019</td>\n",
       "      <td>25779.0470</td>\n",
       "    </tr>\n",
       "    <tr>\n",
       "      <th>10</th>\n",
       "      <td>Regular</td>\n",
       "      <td>OUT010</td>\n",
       "      <td>26345.7350</td>\n",
       "    </tr>\n",
       "    <tr>\n",
       "      <th>11</th>\n",
       "      <td>Regular</td>\n",
       "      <td>OUT013</td>\n",
       "      <td>45406.8708</td>\n",
       "    </tr>\n",
       "    <tr>\n",
       "      <th>17</th>\n",
       "      <td>Regular</td>\n",
       "      <td>OUT045</td>\n",
       "      <td>45907.9680</td>\n",
       "    </tr>\n",
       "    <tr>\n",
       "      <th>12</th>\n",
       "      <td>Regular</td>\n",
       "      <td>OUT017</td>\n",
       "      <td>46156.9106</td>\n",
       "    </tr>\n",
       "    <tr>\n",
       "      <th>16</th>\n",
       "      <td>Regular</td>\n",
       "      <td>OUT035</td>\n",
       "      <td>46620.9896</td>\n",
       "    </tr>\n",
       "    <tr>\n",
       "      <th>13</th>\n",
       "      <td>Regular</td>\n",
       "      <td>OUT018</td>\n",
       "      <td>46633.1654</td>\n",
       "    </tr>\n",
       "    <tr>\n",
       "      <th>15</th>\n",
       "      <td>Regular</td>\n",
       "      <td>OUT027</td>\n",
       "      <td>46940.2636</td>\n",
       "    </tr>\n",
       "    <tr>\n",
       "      <th>18</th>\n",
       "      <td>Regular</td>\n",
       "      <td>OUT046</td>\n",
       "      <td>47510.0486</td>\n",
       "    </tr>\n",
       "    <tr>\n",
       "      <th>4</th>\n",
       "      <td>Low Fat</td>\n",
       "      <td>OUT019</td>\n",
       "      <td>48028.5354</td>\n",
       "    </tr>\n",
       "    <tr>\n",
       "      <th>19</th>\n",
       "      <td>Regular</td>\n",
       "      <td>OUT049</td>\n",
       "      <td>48060.8038</td>\n",
       "    </tr>\n",
       "    <tr>\n",
       "      <th>0</th>\n",
       "      <td>Low Fat</td>\n",
       "      <td>OUT010</td>\n",
       "      <td>51785.8296</td>\n",
       "    </tr>\n",
       "    <tr>\n",
       "      <th>9</th>\n",
       "      <td>Low Fat</td>\n",
       "      <td>OUT049</td>\n",
       "      <td>82416.0560</td>\n",
       "    </tr>\n",
       "    <tr>\n",
       "      <th>2</th>\n",
       "      <td>Low Fat</td>\n",
       "      <td>OUT017</td>\n",
       "      <td>82947.0458</td>\n",
       "    </tr>\n",
       "    <tr>\n",
       "      <th>5</th>\n",
       "      <td>Low Fat</td>\n",
       "      <td>OUT027</td>\n",
       "      <td>83774.4110</td>\n",
       "    </tr>\n",
       "    <tr>\n",
       "      <th>8</th>\n",
       "      <td>Low Fat</td>\n",
       "      <td>OUT046</td>\n",
       "      <td>84603.3212</td>\n",
       "    </tr>\n",
       "    <tr>\n",
       "      <th>3</th>\n",
       "      <td>Low Fat</td>\n",
       "      <td>OUT018</td>\n",
       "      <td>84844.6070</td>\n",
       "    </tr>\n",
       "    <tr>\n",
       "      <th>7</th>\n",
       "      <td>Low Fat</td>\n",
       "      <td>OUT045</td>\n",
       "      <td>85034.8102</td>\n",
       "    </tr>\n",
       "    <tr>\n",
       "      <th>1</th>\n",
       "      <td>Low Fat</td>\n",
       "      <td>OUT013</td>\n",
       "      <td>86402.1448</td>\n",
       "    </tr>\n",
       "    <tr>\n",
       "      <th>6</th>\n",
       "      <td>Low Fat</td>\n",
       "      <td>OUT035</td>\n",
       "      <td>86482.9174</td>\n",
       "    </tr>\n",
       "  </tbody>\n",
       "</table>\n",
       "</div>"
      ],
      "text/plain": [
       "   Item Fat Content Outlet Identifier  Total Sales\n",
       "14          Regular            OUT019   25779.0470\n",
       "10          Regular            OUT010   26345.7350\n",
       "11          Regular            OUT013   45406.8708\n",
       "17          Regular            OUT045   45907.9680\n",
       "12          Regular            OUT017   46156.9106\n",
       "16          Regular            OUT035   46620.9896\n",
       "13          Regular            OUT018   46633.1654\n",
       "15          Regular            OUT027   46940.2636\n",
       "18          Regular            OUT046   47510.0486\n",
       "4           Low Fat            OUT019   48028.5354\n",
       "19          Regular            OUT049   48060.8038\n",
       "0           Low Fat            OUT010   51785.8296\n",
       "9           Low Fat            OUT049   82416.0560\n",
       "2           Low Fat            OUT017   82947.0458\n",
       "5           Low Fat            OUT027   83774.4110\n",
       "8           Low Fat            OUT046   84603.3212\n",
       "3           Low Fat            OUT018   84844.6070\n",
       "7           Low Fat            OUT045   85034.8102\n",
       "1           Low Fat            OUT013   86402.1448\n",
       "6           Low Fat            OUT035   86482.9174"
      ]
     },
     "execution_count": 146,
     "metadata": {},
     "output_type": "execute_result"
    }
   ],
   "source": [
    "fat_outlet_df = fat_outlet_df.reset_index()\n",
    "fat_outlet_df.rename(columns={'Sales': 'Total Sales'}, inplace=True)\n",
    "fat_outlet_df = fat_outlet_df.sort_values('Total Sales', ascending=True)\n",
    "fat_outlet_df\n",
    "# stacked column chart\n"
   ]
  },
  {
   "cell_type": "code",
   "execution_count": 147,
   "id": "83c61c0e",
   "metadata": {},
   "outputs": [
    {
     "data": {
      "text/plain": [
       "<Axes: xlabel='Outlet Identifier'>"
      ]
     },
     "execution_count": 147,
     "metadata": {},
     "output_type": "execute_result"
    },
    {
     "data": {
      "image/png": "[encoded data removed]",
      "text/plain": [
       "<Figure size 1000x600 with 1 Axes>"
      ]
     },
     "metadata": {},
     "output_type": "display_data"
    }
   ],
   "source": [
    "fat_outlet_df = fat_outlet_df.pivot(index='Outlet Identifier', columns='Item Fat Content', values='Total Sales')\n",
    "fat_outlet_df = fat_outlet_df.fillna(0)\n",
    "fat_outlet_df = fat_outlet_df.reset_index()\n",
    "fat_outlet_df = fat_outlet_df.set_index('Outlet Identifier')\n",
    "fat_outlet_df.plot(kind='bar', stacked=True, figsize=(10, 6))"
   ]
  },
  {
   "cell_type": "code",
   "execution_count": null,
   "id": "8a881633",
   "metadata": {},
   "outputs": [],
   "source": []
  }
 ],
 "metadata": {
  "kernelspec": {
   "display_name": ".venv",
   "language": "python",
   "name": "python3"
  },
  "language_info": {
   "codemirror_mode": {
    "name": "ipython",
    "version": 3
   },
   "file_extension": ".py",
   "mimetype": "text/x-python",
   "name": "python",
   "nbconvert_exporter": "python",
   "pygments_lexer": "ipython3",
   "version": "3.11.9"
  }
 },
 "nbformat": 4,
 "nbformat_minor": 5
}
